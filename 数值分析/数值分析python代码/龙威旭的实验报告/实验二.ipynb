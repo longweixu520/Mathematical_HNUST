{
 "cells": [
  {
   "cell_type": "code",
   "execution_count": 1,
   "id": "da514416",
   "metadata": {},
   "outputs": [
    {
     "name": "stdout",
     "output_type": "stream",
     "text": [
      "使用复合梯形公式估计的定积分结果为：0.34375\n"
     ]
    }
   ],
   "source": [
    "def composite_trapezoidal_rule(func, a, b, n):\n",
    "    \"\"\"\n",
    "    使用复合梯形公式估计定积分的数值\n",
    "\n",
    "    参数：\n",
    "    - func: 被积函数\n",
    "    - a, b: 积分区间 [a, b]\n",
    "    - n: 子区间数量\n",
    "\n",
    "    返回：\n",
    "    - 积分的数值估计\n",
    "    \"\"\"\n",
    "    h = (b - a) / n\n",
    "    result = (func(a) + func(b)) / 2.0\n",
    "\n",
    "    for i in range(1, n):\n",
    "        result += func(a + i * h)\n",
    "\n",
    "    result *= h\n",
    "\n",
    "    return result\n"
   ]
  },
  {
   "cell_type": "code",
   "execution_count": 2,
   "id": "81fd9029",
   "metadata": {},
   "outputs": [
    {
     "name": "stdout",
     "output_type": "stream",
     "text": [
      "使用复合辛普森公式估计的定积分结果为：0.3333333333333333\n"
     ]
    }
   ],
   "source": [
    "def composite_simpson_rule(func, a, b, n):\n",
    "    \"\"\"\n",
    "    使用复合辛普森公式估计定积分的数值\n",
    "\n",
    "    参数：\n",
    "    - func: 被积函数\n",
    "    - a, b: 积分区间 [a, b]\n",
    "    - n: 子区间数量 (必须是偶数)\n",
    "\n",
    "    返回：\n",
    "    - 积分的数值估计\n",
    "    \"\"\"\n",
    "    if n % 2 != 0:\n",
    "        raise ValueError(\"子区间数量必须是偶数\")\n",
    "\n",
    "    h = (b - a) / n\n",
    "    result = func(a) + func(b)\n",
    "\n",
    "    for i in range(1, n, 2):\n",
    "        result += 4 * func(a + i * h)\n",
    "\n",
    "    for i in range(2, n-1, 2):\n",
    "        result += 2 * func(a + i * h)\n",
    "\n",
    "    result *= h / 3.0\n",
    "\n",
    "    return result\n"
   ]
  },
  {
   "cell_type": "code",
   "execution_count": 3,
   "id": "c31303ba",
   "metadata": {},
   "outputs": [
    {
     "name": "stdout",
     "output_type": "stream",
     "text": [
      "使用高斯-勒让德求积公式估计的定积分结果为：0.33333333333333337\n"
     ]
    }
   ],
   "source": [
    "import numpy as np\n",
    "\n",
    "def gauss_legendre_quadrature(func, a, b, n):\n",
    "    \"\"\"\n",
    "    使用高斯-勒让德求积公式估计定积分的数值\n",
    "\n",
    "    参数：\n",
    "    - func: 被积函数\n",
    "    - a, b: 积分区间 [a, b]\n",
    "    - n: 高斯-勒让德节点数量\n",
    "\n",
    "    返回：\n",
    "    - 积分的数值估计\n",
    "    \"\"\"\n",
    "    # 获取高斯-勒让德节点和权重\n",
    "    nodes, weights = np.polynomial.legendre.leggauss(n)\n",
    "\n",
    "    # 将节点从 [-1, 1] 映射到 [a, b]\n",
    "    mapped_nodes = 0.5 * (b - a) * nodes + 0.5 * (b + a)\n",
    "\n",
    "    # 计算积分的数值估计\n",
    "    result = sum(weights[i] * func(mapped_nodes[i]) for i in range(n)) * 0.5 * (b - a)\n",
    "\n",
    "    return result"
   ]
  },
  {
   "cell_type": "code",
   "execution_count": 7,
   "id": "d2f4ae05",
   "metadata": {},
   "outputs": [
    {
     "name": "stdout",
     "output_type": "stream",
     "text": [
      "使用复合梯形公式估计的定积分结果为：-0.44311790532269585\n"
     ]
    }
   ],
   "source": [
    "import numpy as np\n",
    "\n",
    "def integrand(x):\n",
    "    if x == 0:\n",
    "        return 0\n",
    "    else:\n",
    "        return (x**0.5) * np.log(x)\n",
    "\n",
    "def composite_trapezoidal_rule(func, a, b, n):\n",
    "    \"\"\"\n",
    "    使用复合梯形公式估计定积分的数值\n",
    "\n",
    "    参数：\n",
    "    - func: 被积函数\n",
    "    - a, b: 积分区间 [a, b]\n",
    "    - n: 子区间数量\n",
    "\n",
    "    返回：\n",
    "    - 积分的数值估计\n",
    "    \"\"\"\n",
    "    h = (b - a) / n\n",
    "    result = (func(a) + func(b)) / 2.0\n",
    "\n",
    "    for i in range(1, n):\n",
    "        result += func(a + i * h)\n",
    "\n",
    "    result *= h\n",
    "\n",
    "    return result\n",
    "\n",
    "# 设置积分区间和子区间数量\n",
    "a = 0\n",
    "b = 1\n",
    "n = 100  # 可根据需要调整子区间数量\n",
    "\n",
    "# 使用复合梯形公式估计积分\n",
    "result = composite_trapezoidal_rule(integrand, a, b, n)\n",
    "\n",
    "print(f\"使用复合梯形公式估计的定积分结果为：{result}\")\n"
   ]
  },
  {
   "cell_type": "code",
   "execution_count": 8,
   "id": "1acd4cae",
   "metadata": {},
   "outputs": [
    {
     "name": "stdout",
     "output_type": "stream",
     "text": [
      "使用复合辛普森公式估计的定积分结果为：-0.44379379830115023\n"
     ]
    }
   ],
   "source": [
    "import numpy as np\n",
    "\n",
    "def integrand(x):\n",
    "    # Handle singularity at x=0\n",
    "    if x == 0:\n",
    "        return 0\n",
    "    else:\n",
    "        return (x**0.5) * np.log(x)\n",
    "\n",
    "def composite_simpson_rule(func, a, b, n):\n",
    "    \"\"\"\n",
    "    使用复合辛普森公式估计定积分的数值\n",
    "\n",
    "    参数：\n",
    "    - func: 被积函数\n",
    "    - a, b: 积分区间 [a, b]\n",
    "    - n: 子区间数量 (必须是偶数)\n",
    "\n",
    "    返回：\n",
    "    - 积分的数值估计\n",
    "    \"\"\"\n",
    "    if n % 2 != 0:\n",
    "        raise ValueError(\"子区间数量必须是偶数\")\n",
    "\n",
    "    h = (b - a) / n\n",
    "    result = func(a) + func(b)\n",
    "\n",
    "    for i in range(1, n, 2):\n",
    "        result += 4 * func(a + i * h)\n",
    "\n",
    "    for i in range(2, n-1, 2):\n",
    "        result += 2 * func(a + i * h)\n",
    "\n",
    "    result *= h / 3.0\n",
    "\n",
    "    return result\n",
    "\n",
    "# 设置积分区间和子区间数量\n",
    "a = 0\n",
    "b = 1\n",
    "n = 100  # 可根据需要调整子区间数量，确保是偶数\n",
    "\n",
    "# 使用复合辛普森公式估计积分\n",
    "result = composite_simpson_rule(integrand, a, b, n)\n",
    "\n",
    "print(f\"使用复合辛普森公式估计的定积分结果为：{result}\")\n"
   ]
  },
  {
   "cell_type": "code",
   "execution_count": 9,
   "id": "9b286e04",
   "metadata": {},
   "outputs": [
    {
     "name": "stdout",
     "output_type": "stream",
     "text": [
      "使用高斯-勒让德求积公式估计的定积分结果为：-0.44711359503156195\n"
     ]
    }
   ],
   "source": [
    "import numpy as np\n",
    "\n",
    "def integrand(x):\n",
    "    # Handle singularity at x=0\n",
    "    if x == 0:\n",
    "        return 0\n",
    "    else:\n",
    "        return (x**0.5) * np.log(x)\n",
    "\n",
    "def gauss_legendre_quadrature(func, a, b, n):\n",
    "    \"\"\"\n",
    "    使用高斯-勒让德求积公式估计定积分的数值\n",
    "\n",
    "    参数：\n",
    "    - func: 被积函数\n",
    "    - a, b: 积分区间 [a, b]\n",
    "    - n: 高斯-勒让德节点数量\n",
    "\n",
    "    返回：\n",
    "    - 积分的数值估计\n",
    "    \"\"\"\n",
    "    # 获取高斯-勒让德节点和权重\n",
    "    nodes, weights = np.polynomial.legendre.leggauss(n)\n",
    "\n",
    "    # 将节点从 [-1, 1] 映射到 [a, b]\n",
    "    mapped_nodes = 0.5 * (b - a) * nodes + 0.5 * (b + a)\n",
    "\n",
    "    # 计算积分的数值估计\n",
    "    result = sum(weights[i] * func(mapped_nodes[i]) for i in range(n)) * 0.5 * (b - a)\n",
    "\n",
    "    return result\n",
    "\n",
    "# 设置积分区间和高斯-勒让德节点数量\n",
    "a = 0\n",
    "b = 1\n",
    "n = 5  # 可根据需要调整节点数量\n",
    "\n",
    "# 使用高斯-勒让德求积公式估计积分\n",
    "result = gauss_legendre_quadrature(integrand, a, b, n)\n",
    "\n",
    "print(f\"使用高斯-勒让德求积公式估计的定积分结果为：{result}\")\n"
   ]
  },
  {
   "cell_type": "code",
   "execution_count": 10,
   "id": "2b3ac893",
   "metadata": {},
   "outputs": [
    {
     "name": "stdout",
     "output_type": "stream",
     "text": [
      "使用复合梯形公式估计的定积分结果为：0.9460805606257324\n"
     ]
    }
   ],
   "source": [
    "def integrand_trapezoidal(x):\n",
    "    # Handle singularity at x=0\n",
    "    if x == 0:\n",
    "        return 1\n",
    "    else:\n",
    "        return np.sin(x) / x\n",
    "\n",
    "def composite_trapezoidal_rule(func, a, b, n):\n",
    "    h = (b - a) / n\n",
    "    result = (func(a) + func(b)) / 2.0\n",
    "\n",
    "    for i in range(1, n):\n",
    "        result += func(a + i * h)\n",
    "\n",
    "    result *= h\n",
    "\n",
    "    return result\n",
    "\n",
    "# 设置积分区间和子区间数量\n",
    "a = 0\n",
    "b = 1\n",
    "n_trapezoidal = 100\n",
    "\n",
    "# 使用复合梯形公式估计积分\n",
    "result_trapezoidal = composite_trapezoidal_rule(integrand_trapezoidal, a, b, n_trapezoidal)\n",
    "\n",
    "print(f\"使用复合梯形公式估计的定积分结果为：{result_trapezoidal}\")\n"
   ]
  },
  {
   "cell_type": "code",
   "execution_count": 11,
   "id": "b993209b",
   "metadata": {},
   "outputs": [
    {
     "name": "stdout",
     "output_type": "stream",
     "text": [
      "使用复合辛普森公式估计的定积分结果为：0.9460830703770221\n"
     ]
    }
   ],
   "source": [
    "def integrand_simpson(x):\n",
    "    # Handle singularity at x=0\n",
    "    if x == 0:\n",
    "        return 1\n",
    "    else:\n",
    "        return np.sin(x) / x\n",
    "\n",
    "def composite_simpson_rule(func, a, b, n):\n",
    "    if n % 2 != 0:\n",
    "        raise ValueError(\"子区间数量必须是偶数\")\n",
    "\n",
    "    h = (b - a) / n\n",
    "    result = func(a) + func(b)\n",
    "\n",
    "    for i in range(1, n, 2):\n",
    "        result += 4 * func(a + i * h)\n",
    "\n",
    "    for i in range(2, n-1, 2):\n",
    "        result += 2 * func(a + i * h)\n",
    "\n",
    "    result *= h / 3.0\n",
    "\n",
    "    return result\n",
    "\n",
    "# 设置积分区间和子区间数量\n",
    "a = 0\n",
    "b = 1\n",
    "n_simpson = 100\n",
    "\n",
    "# 使用复合辛普森公式估计积分\n",
    "result_simpson = composite_simpson_rule(integrand_simpson, a, b, n_simpson)\n",
    "\n",
    "print(f\"使用复合辛普森公式估计的定积分结果为：{result_simpson}\")\n"
   ]
  },
  {
   "cell_type": "code",
   "execution_count": 12,
   "id": "51f704ba",
   "metadata": {},
   "outputs": [
    {
     "name": "stdout",
     "output_type": "stream",
     "text": [
      "使用高斯-勒让德求积公式估计的定积分结果为：0.9460830703672148\n"
     ]
    }
   ],
   "source": [
    "def integrand_legendre(x):\n",
    "    return np.sin(x) / x\n",
    "\n",
    "def gauss_legendre_quadrature(func, a, b, n):\n",
    "    nodes, weights = np.polynomial.legendre.leggauss(n)\n",
    "    mapped_nodes = 0.5 * (b - a) * nodes + 0.5 * (b + a)\n",
    "    result = sum(weights[i] * func(mapped_nodes[i]) for i in range(n)) * 0.5 * (b - a)\n",
    "    return result\n",
    "\n",
    "# 设置积分区间和高斯-勒让德节点数量\n",
    "a = 0\n",
    "b = 1\n",
    "n_legendre = 5\n",
    "\n",
    "# 使用高斯-勒让德求积公式估计积分\n",
    "result_legendre = gauss_legendre_quadrature(integrand_legendre, a, b, n_legendre)\n",
    "\n",
    "print(f\"使用高斯-勒让德求积公式估计的定积分结果为：{result_legendre}\")\n"
   ]
  },
  {
   "cell_type": "code",
   "execution_count": null,
   "id": "fb8c6cbf",
   "metadata": {},
   "outputs": [],
   "source": []
  }
 ],
 "metadata": {
  "kernelspec": {
   "display_name": "Python 3 (ipykernel)",
   "language": "python",
   "name": "python3"
  },
  "language_info": {
   "codemirror_mode": {
    "name": "ipython",
    "version": 3
   },
   "file_extension": ".py",
   "mimetype": "text/x-python",
   "name": "python",
   "nbconvert_exporter": "python",
   "pygments_lexer": "ipython3",
   "version": "3.11.3"
  },
  "nbTranslate": {
   "displayLangs": [
    "*"
   ],
   "hotkey": "alt-t",
   "langInMainMenu": true,
   "sourceLang": "en",
   "targetLang": "fr",
   "useGoogleTranslate": true
  },
  "toc": {
   "base_numbering": 1,
   "nav_menu": {},
   "number_sections": true,
   "sideBar": true,
   "skip_h1_title": false,
   "title_cell": "Table of Contents",
   "title_sidebar": "Contents",
   "toc_cell": false,
   "toc_position": {},
   "toc_section_display": true,
   "toc_window_display": false
  }
 },
 "nbformat": 4,
 "nbformat_minor": 5
}
